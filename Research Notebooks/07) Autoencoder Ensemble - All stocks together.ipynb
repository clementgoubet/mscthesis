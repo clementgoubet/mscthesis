{
 "cells": [
  {
   "cell_type": "code",
   "execution_count": 1,
   "metadata": {},
   "outputs": [
    {
     "name": "stderr",
     "output_type": "stream",
     "text": [
      "Using TensorFlow backend.\n"
     ]
    }
   ],
   "source": [
    "import math\n",
    "import datetime\n",
    "import numpy as np\n",
    "import pickle\n",
    "\n",
    "import methodsMLinterns\n",
    "import customAutoencoder"
   ]
  },
  {
   "cell_type": "code",
   "execution_count": 2,
   "metadata": {
    "collapsed": true
   },
   "outputs": [],
   "source": [
    "stocks = ['DNB', 'NRG', 'CL', 'ANTM', 'NEE', 'PAYX', 'VAR', 'NI', 'MNST', 'JNJ', 'TGNA', 'NOV', 'FIS', 'BLK', 'HBI', 'NVDA', 'DLTR', 'MRO', 'EMN', 'AMT', 'FLR', 'IBM', 'BK', 'NFX', 'AGN', 'LRCX', 'DIS', 'LH', 'C', 'MNK']"
   ]
  },
  {
   "cell_type": "code",
   "execution_count": 3,
   "metadata": {
    "collapsed": true
   },
   "outputs": [],
   "source": [
    "%matplotlib inline\n",
    "%load_ext autoreload\n",
    "%autoreload 2\n",
    "import warnings\n",
    "warnings.filterwarnings('ignore')"
   ]
  },
  {
   "cell_type": "code",
   "execution_count": 4,
   "metadata": {},
   "outputs": [],
   "source": [
    "features_1p4_extra =['aab', 'aac', 'aad', 'aae', 'aaf', 'aag', 'aah', 'abj', 'abm', 'abn', 'abo', 'abp', 'abq', 'abr', 'abs', 'abt', 'abu', 'abv', 'abw', 'abx', 'aby', 'abz', 'aca', 'acb', 'acc', 'acd', 'ace', 'acf', 'acr', 'acw', 'acx', 'acy', 'adi', 'adj', 'adl', 'ado', 'adp', 'adq', 'adr', 'ads', 'adt', 'adu', 'adv', 'adw', 'adx', 'ady', 'adz', 'aea', 'aeb', 'aec', 'aed', 'aee', 'aef', 'aeg', 'aeh', 'aei', 'aej', 'aek', 'ael', 'aem', 'aen', 'aeo', 'aep', 'aeq', 'aer', 'aes', 'aex', 'aey', 'aez', 'afa', 'afj', 'afl', 'afo', 'afp', 'afq', 'afr', 'afs', 'aft', 'afu', 'afv', 'afw', 'afx', 'afy', 'afz', 'aga', 'agb', 'agc', 'agd', 'age', 'agf', 'agg', 'agh', 'agi', 'agj', 'agk', 'agl', 'agm', 'agn', 'ago', 'agp', 'agq', 'agr', 'ags', 'agt', 'agu', 'agv', 'agw', 'agx', 'agy', 'ahf', 'ahg', 'ahh', 'ahi', 'ahj', 'ahk', 'ahl', 'ahm', 'ahn', 'aho', 'zhq', 'zhr', 'zhs', 'zht', 'zhu', 'zhv', 'zhw', 'ziy', 'zjb', 'zjc', 'zjd', 'zje', 'zjf', 'zjg', 'zjh', 'zji', 'zjj', 'zjk', 'zjl', 'zjm', 'zjn', 'zjo', 'zjp', 'zjq', 'zjr', 'zjs', 'zjt', 'zju', 'zkg', 'zkl', 'zkm', 'zkn', 'zkx', 'zky', 'zla', 'zld', 'zle', 'zlf', 'zlg', 'zlh', 'zli', 'zlj', 'zlk', 'zll', 'zlm', 'zln', 'zlo', 'zlp', 'zlq', 'zlr', 'zls', 'zlt', 'zlu', 'zlv', 'zlw', 'zlx', 'zly', 'zlz', 'zma', 'zmb', 'zmc', 'zmd', 'zme', 'zmf', 'zmg', 'zmh', 'zmm', 'zmn', 'zmo', 'zmp', 'zmy', 'zna', 'znd', 'zne', 'znf', 'zng', 'znh', 'zni', 'znj', 'znk', 'znl', 'znm', 'znn', 'zno', 'znp', 'znq', 'znr', 'zns', 'znt', 'znu', 'znv', 'znw', 'znx', 'zny', 'znz', 'zoa', 'zob', 'zoc', 'zod', 'zoe', 'zof', 'zog', 'zoh', 'zoi', 'zoj', 'zok', 'zol', 'zom', 'zon', 'zou', 'zov', 'zow', 'zox', 'zoy', 'zoz', 'zpa', 'zpb', 'zpc', 'zpd', 'zpe']\n",
    "features_1p4_extra_a=[f for f in features_1p4_extra if f[0]=='a']\n",
    "features_1p4_extra_z=[f for f in features_1p4_extra if f[0]=='z']\n",
    "assert(len(features_1p4_extra_a)+len(features_1p4_extra_z)==len(features_1p4_extra))"
   ]
  },
  {
   "cell_type": "code",
   "execution_count": null,
   "metadata": {
    "collapsed": true
   },
   "outputs": [],
   "source": [
    "date_test_set = datetime.date(2016, 1, 1)\n",
    "\n",
    "clf_portfolio_dic = methodsMLinterns.ClassificationPortfolio(stocks=stocks, minutes_forward=30)\n",
    "clf_portfolio_dic.loadData()\n",
    "clf_portfolio_dic.cleanUpData(features_1p4_extra)\n",
    "clf_portfolio_dic.getTrainTestSetDate(date_test_set)"
   ]
  },
  {
   "cell_type": "markdown",
   "metadata": {
    "collapsed": true
   },
   "source": [
    "### Group together all the stocks"
   ]
  },
  {
   "cell_type": "code",
   "execution_count": 7,
   "metadata": {},
   "outputs": [],
   "source": [
    "def prepareData(features):\n",
    "    X_train = np.array([], dtype=np.float64).reshape(0,len(features))\n",
    "    y_train = np.array([], dtype=np.float64).reshape(0,1)\n",
    "    X_test = np.array([], dtype=np.float64).reshape(0,len(features))\n",
    "    y_test = np.array([], dtype=np.float64).reshape(0,1)\n",
    "\n",
    "\n",
    "    for k, stock in enumerate(clf_portfolio_dic.stocks):\n",
    "        name = stock + str(clf_portfolio_dic.minutes_forward)\n",
    "        if k==0:\n",
    "            X_train, y_train = clf_portfolio_dic.X_train_dic[name][features].as_matrix(),(clf_portfolio_dic.y_train_dic[name]+1)/2\n",
    "            X_test, y_test = clf_portfolio_dic.X_test_dic[name][features].as_matrix(), (clf_portfolio_dic.y_test_dic[name]+1)/2\n",
    "        else:\n",
    "            X_train = np.concatenate((X_train,clf_portfolio_dic.X_train_dic[name][features].as_matrix()),axis=0)\n",
    "            y_train = np.concatenate((y_train,(clf_portfolio_dic.y_train_dic[name]+1)/2),axis=0)\n",
    "            X_test = np.concatenate((X_test,clf_portfolio_dic.X_test_dic[name][features].as_matrix()),axis=0)\n",
    "            y_test = np.concatenate((y_test,(clf_portfolio_dic.y_test_dic[name]+1)/2),axis=0)\n",
    "\n",
    "    print(X_train.shape)\n",
    "    # Transform to one hot vectors\n",
    "    y_t = np.zeros((y_train.shape[0], 2))\n",
    "    y_t[np.arange(y_train.shape[0]), y_train.astype('int32')] = 1\n",
    "    y_train = y_t\n",
    "\n",
    "    y_t = np.zeros((y_test.shape[0], 2))\n",
    "    y_t[np.arange(y_test.shape[0]), y_test.astype('int32')] = 1\n",
    "    y_test = y_t\n",
    "    \n",
    "    return X_train,y_train,X_test,y_test"
   ]
  },
  {
   "cell_type": "markdown",
   "metadata": {},
   "source": [
    "### Load saved models"
   ]
  },
  {
   "cell_type": "code",
   "execution_count": 83,
   "metadata": {
    "collapsed": true
   },
   "outputs": [],
   "source": [
    "best_30_a = \"A30S_(119,100,30)_d0_in0.1_r(0.1,0.1)_f0\"\n",
    "best_30_z = \"A30S_(120,100,30)_d0.5_in0.1_r(0.01,0.01)_f0\"\n",
    "best_30_a_z = \"A30S_(239,100,30)_d0.5_in0.1_r(0.01,0.01)_f0\"\n",
    "best_50_a = \"A30S_(119,100,50)_d0.8_in0_r(0.01,0.01)_f0\"\n",
    "best_50_z = \"A30S_(120,100,50)_d0.2_in0_r(0.01,0.01)_f1\"\n",
    "best_50_a_z = \"A30S_(239,100,50)_d0.5_in0.1_r(0.01,0.01)_f0\"\n",
    "best_70_a = \"A30S_(119,100,70)_d0.8_in0.1_r(0.01,0.01)_f0\"\n",
    "best_70_z = \"A30S_(120,100,70)_d0.5_in0_r(0.01,0.01)_f1\"\n",
    "best_70_a_z = \"A30S_(239,100,70)_d0.5_in0_r(0,0)_f1\"\n",
    "best_10_a_z = \"A30S_(239,100,10)_d0.5_in0_r(0.01,0.01)_f0\"\n",
    "nameList = [best_30_a, best_30_z, best_30_a_z, best_50_a, best_50_z, best_50_a_z, best_70_a, best_70_z, best_70_a_z]\n",
    "#7 3 6 0 1 4 5 8 2\n",
    "nameList = [best_30_a_z,best_70_a_z,best_50_a_z,best_50_z,best_30_z,best_10_a_z]# , , , , , , , , ]"
   ]
  },
  {
   "cell_type": "code",
   "execution_count": 84,
   "metadata": {},
   "outputs": [],
   "source": [
    "ensemble = customAutoencoder.AutoencoderEnsemble(nameList)\n",
    "ensemble.loadModels()"
   ]
  },
  {
   "cell_type": "code",
   "execution_count": 35,
   "metadata": {},
   "outputs": [
    {
     "name": "stdout",
     "output_type": "stream",
     "text": [
      "(122607, 239)\n"
     ]
    }
   ],
   "source": [
    "features = features_1p4_extra\n",
    "X_train,y_train,X_test,y_test = prepareData(features)"
   ]
  },
  {
   "cell_type": "code",
   "execution_count": 36,
   "metadata": {},
   "outputs": [],
   "source": [
    "hardVoting_train,softVoting_train,productVoting_train,probas_train = ensemble.predict(X_train)\n",
    "hardVoting_test,softVoting_test,productVoting_test,probas_test = ensemble.predict(X_test)"
   ]
  },
  {
   "cell_type": "code",
   "execution_count": 37,
   "metadata": {},
   "outputs": [
    {
     "name": "stdout",
     "output_type": "stream",
     "text": [
      "[[0 0 0 ..., 1 1 0]\n",
      " [1 1 1 ..., 1 1 0]\n",
      " [0 1 1 ..., 1 1 0]]\n"
     ]
    }
   ],
   "source": [
    "probas_test = np.argmax(probas_test,axis=2)\n",
    "print(probas_test)"
   ]
  },
  {
   "cell_type": "code",
   "execution_count": 29,
   "metadata": {},
   "outputs": [
    {
     "name": "stdout",
     "output_type": "stream",
     "text": [
      "[[1 0 0 ..., 1 1 0]\n",
      " [0 1 0 ..., 1 1 0]\n",
      " [1 1 1 ..., 1 1 0]\n",
      " ..., \n",
      " [1 0 0 ..., 1 1 0]\n",
      " [0 1 0 ..., 1 1 0]\n",
      " [0 0 0 ..., 1 1 0]]\n"
     ]
    }
   ],
   "source": [
    "truthTable = (probas_test == np.repeat(np.argmax(y_test,axis=1)[None,:],9,axis=0)).astype('int32')\n",
    "print(truthTable)"
   ]
  },
  {
   "cell_type": "code",
   "execution_count": 32,
   "metadata": {},
   "outputs": [
    {
     "name": "stdout",
     "output_type": "stream",
     "text": [
      "[19709 19753 19909 19660 19779 19863 19704 19648 19881]\n",
      "[7 3 6 0 1 4 5 8 2]\n"
     ]
    }
   ],
   "source": [
    "print(np.sum(truthTable,axis=1))\n",
    "print(np.argsort(np.sum(truthTable,axis=1)))"
   ]
  },
  {
   "cell_type": "code",
   "execution_count": 13,
   "metadata": {},
   "outputs": [
    {
     "name": "stdout",
     "output_type": "stream",
     "text": [
      "0.876227527437\n",
      "0.999345759882\n",
      "0.875608855414\n",
      "==========\n",
      "0.865084224911\n",
      "0.999282151154\n",
      "0.864480244678\n"
     ]
    }
   ],
   "source": [
    "def correlation(vote1,vote2):\n",
    "    return np.corrcoef(np.argmax(vote1,axis=1),np.argmax(vote2,axis=1))[0,1]\n",
    "print(correlation(softVoting_train,hardVoting_train))\n",
    "print(correlation(softVoting_train,productVoting_train))\n",
    "print(correlation(productVoting_train,hardVoting_train))\n",
    "print(\"==========\")\n",
    "print(correlation(softVoting_test,hardVoting_test))\n",
    "print(correlation(softVoting_test,productVoting_test))\n",
    "print(correlation(productVoting_test,hardVoting_test))"
   ]
  },
  {
   "cell_type": "markdown",
   "metadata": {},
   "source": [
    "### Test on stocks separately"
   ]
  },
  {
   "cell_type": "code",
   "execution_count": 38,
   "metadata": {},
   "outputs": [],
   "source": [
    "def testOnSeparateStocks(auto,feat,votingType='soft'):\n",
    "    acc_train_autoencoder = np.zeros(clf_portfolio_dic.N_stocks)\n",
    "    acc_test_autoencoder = np.zeros(clf_portfolio_dic.N_stocks)\n",
    "    for k, stock in enumerate(clf_portfolio_dic.stocks):\n",
    "        name = \"%s30\"%stock\n",
    "        print(k,name)\n",
    "    \n",
    "        x_train = np.array(clf_portfolio_dic.X_train_dic[name][feat])\n",
    "        x_test = np.array(clf_portfolio_dic.X_test_dic[name][feat])\n",
    "        y_train = (clf_portfolio_dic.y_train_dic[name]+1)/2\n",
    "        y_test = (clf_portfolio_dic.y_test_dic[name]+1)/2\n",
    "\n",
    "        y_t = np.zeros((y_train.shape[0], 2))\n",
    "        y_t[np.arange(y_train.shape[0]), y_train.astype('int32')] = 1\n",
    "        y_train = y_t\n",
    "\n",
    "        y_t = np.zeros((y_test.shape[0], 2))\n",
    "        y_t[np.arange(y_test.shape[0]), y_test.astype('int32')] = 1\n",
    "        y_test = y_t\n",
    "    \n",
    "        \n",
    "        hardVoting_train, softVoting_train, productVoting_train, _ = ensemble.predict(x_train)\n",
    "        hardVoting_test, softVoting_test, productVoting_test, _ = ensemble.predict(x_test)\n",
    "        if votingType == 'soft':\n",
    "            y_pred_train = softVoting_train\n",
    "            y_pred_test = softVoting_test\n",
    "        elif votingType == 'hard':\n",
    "            y_pred_train = hardVoting_train\n",
    "            y_pred_test = hardVoting_test\n",
    "        elif votingType == 'product':\n",
    "            y_pred_train = productVoting_train\n",
    "            y_pred_test = productVoting_test\n",
    "        \n",
    "        acc_train = (100 * (np.argmax(y_pred_train,1) == np.argmax(y_train,1))).mean()\n",
    "        acc_test = (100 * (np.argmax(y_pred_test,1) == np.argmax(y_test,1))).mean()\n",
    "        acc_train_autoencoder[k] = acc_train\n",
    "        acc_test_autoencoder[k] = acc_test\n",
    "    return(acc_train_autoencoder,acc_test_autoencoder)"
   ]
  },
  {
   "cell_type": "code",
   "execution_count": 85,
   "metadata": {},
   "outputs": [
    {
     "name": "stdout",
     "output_type": "stream",
     "text": [
      "ensemble best soft voting\n",
      "0 DNB30\n",
      "1 NRG30\n",
      "2 CL30\n",
      "3 ANTM30\n",
      "4 NEE30\n",
      "5 PAYX30\n",
      "6 VAR30\n",
      "7 NI30\n",
      "8 MNST30\n",
      "9 JNJ30\n",
      "10 TGNA30\n",
      "11 NOV30\n",
      "12 FIS30\n",
      "13 BLK30\n",
      "14 HBI30\n",
      "15 NVDA30\n",
      "16 DLTR30\n",
      "17 MRO30\n",
      "18 EMN30\n",
      "19 AMT30\n",
      "20 FLR30\n",
      "21 IBM30\n",
      "22 BK30\n",
      "23 NFX30\n",
      "24 AGN30\n",
      "25 LRCX30\n",
      "26 DIS30\n",
      "27 LH30\n",
      "28 C30\n",
      "29 MNK30\n",
      "ensemble best hard voting\n",
      "0 DNB30\n",
      "1 NRG30\n",
      "2 CL30\n",
      "3 ANTM30\n",
      "4 NEE30\n",
      "5 PAYX30\n",
      "6 VAR30\n",
      "7 NI30\n",
      "8 MNST30\n",
      "9 JNJ30\n",
      "10 TGNA30\n",
      "11 NOV30\n",
      "12 FIS30\n",
      "13 BLK30\n",
      "14 HBI30\n",
      "15 NVDA30\n",
      "16 DLTR30\n",
      "17 MRO30\n",
      "18 EMN30\n",
      "19 AMT30\n",
      "20 FLR30\n",
      "21 IBM30\n",
      "22 BK30\n",
      "23 NFX30\n",
      "24 AGN30\n",
      "25 LRCX30\n",
      "26 DIS30\n",
      "27 LH30\n",
      "28 C30\n",
      "29 MNK30\n"
     ]
    }
   ],
   "source": [
    "expList = []\n",
    "\n",
    "for votingType in ['soft','hard']:#,'product']:\n",
    "    name = \"ensemble best %s voting\"%votingType\n",
    "    print(name)\n",
    "    e = methodsMLinterns.ExperimentPerformance(\n",
    "        methodName=name, \n",
    "        stocks=stocks, originalFeatures=features)\n",
    "    \n",
    "    acc_train_vec, acc_test_vec = testOnSeparateStocks(ensemble,features,votingType)\n",
    "                    \n",
    "    e.setTrainResults(acc_train_vec)\n",
    "    e.setTestResults(acc_test_vec)\n",
    "    expList.append(e)"
   ]
  },
  {
   "cell_type": "code",
   "execution_count": 86,
   "metadata": {},
   "outputs": [
    {
     "name": "stdout",
     "output_type": "stream",
     "text": [
      "2\n"
     ]
    }
   ],
   "source": [
    "print(len(expList))"
   ]
  },
  {
   "cell_type": "code",
   "execution_count": 87,
   "metadata": {},
   "outputs": [],
   "source": [
    "with open(\"pickles/acc_autoencoder_logit_ensemble.p\",'wb') as f:\n",
    "    pickle.dump( expList, f, protocol=pickle.HIGHEST_PROTOCOL)"
   ]
  },
  {
   "cell_type": "code",
   "execution_count": null,
   "metadata": {
    "collapsed": true
   },
   "outputs": [],
   "source": []
  }
 ],
 "metadata": {
  "kernelspec": {
   "display_name": "Python 3",
   "language": "python",
   "name": "python3"
  },
  "language_info": {
   "codemirror_mode": {
    "name": "ipython",
    "version": 3
   },
   "file_extension": ".py",
   "mimetype": "text/x-python",
   "name": "python",
   "nbconvert_exporter": "python",
   "pygments_lexer": "ipython3",
   "version": "3.5.2"
  }
 },
 "nbformat": 4,
 "nbformat_minor": 1
}
